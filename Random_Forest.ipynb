{
 "cells": [
  {
   "cell_type": "code",
   "execution_count": 1,
   "id": "ea18ad84",
   "metadata": {},
   "outputs": [],
   "source": [
    "#Training the data using Random Forest\n",
    "import pandas as pd\n",
    "from sklearn.ensemble import RandomForestClassifier\n",
    "from sklearn.metrics import accuracy_score, classification_report"
   ]
  },
  {
   "cell_type": "code",
   "execution_count": 2,
   "id": "6de596fa",
   "metadata": {},
   "outputs": [],
   "source": [
    "# Load preprocessed data\n",
    "train_df = pd.read_csv(\"data/processed/train_processed.csv\")\n",
    "val_df = pd.read_csv(\"data/processed/validation_processed.csv\")"
   ]
  },
  {
   "cell_type": "code",
   "execution_count": 3,
   "id": "2c9957f2",
   "metadata": {},
   "outputs": [],
   "source": [
    "# Split into features and target variable\n",
    "X_train = train_df.drop(\"Attrition\", axis=1)\n",
    "y_train = train_df[\"Attrition\"]\n",
    "\n",
    "X_val = val_df.drop(\"Attrition\", axis=1)\n",
    "y_val = val_df[\"Attrition\"]"
   ]
  },
  {
   "cell_type": "code",
   "execution_count": 4,
   "id": "b473e503",
   "metadata": {},
   "outputs": [
    {
     "name": "stdout",
     "output_type": "stream",
     "text": [
      "Accuracy: 0.7484458826534957\n",
      "Classification Report:\n",
      "               precision    recall  f1-score   support\n",
      "\n",
      "           0       0.75      0.77      0.76      6124\n",
      "           1       0.74      0.73      0.73      5619\n",
      "\n",
      "    accuracy                           0.75     11743\n",
      "   macro avg       0.75      0.75      0.75     11743\n",
      "weighted avg       0.75      0.75      0.75     11743\n",
      "\n"
     ]
    }
   ],
   "source": [
    "# Initialize the Random Forest model\n",
    "rf_model = RandomForestClassifier(n_estimators=100, random_state=42)\n",
    "\n",
    "# Train the model on the training data\n",
    "rf_model.fit(X_train, y_train)\n",
    "\n",
    "# Predict on the validation set\n",
    "predictions = rf_model.predict(X_val)\n",
    "\n",
    "# Evaluate the model performance\n",
    "accuracy = accuracy_score(y_val, predictions)\n",
    "report = classification_report(y_val, predictions)\n",
    "\n",
    "print(\"Accuracy:\", accuracy)\n",
    "print(\"Classification Report:\\n\", report)"
   ]
  }
 ],
 "metadata": {
  "kernelspec": {
   "display_name": "Python 3",
   "language": "python",
   "name": "python3"
  },
  "language_info": {
   "codemirror_mode": {
    "name": "ipython",
    "version": 3
   },
   "file_extension": ".py",
   "mimetype": "text/x-python",
   "name": "python",
   "nbconvert_exporter": "python",
   "pygments_lexer": "ipython3",
   "version": "3.12.4"
  }
 },
 "nbformat": 4,
 "nbformat_minor": 5
}
