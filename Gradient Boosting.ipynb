{
 "cells": [
  {
   "cell_type": "code",
   "execution_count": 3,
   "id": "14666e06-4e7a-4f39-a8ad-6c8ad0559f99",
   "metadata": {},
   "outputs": [
    {
     "name": "stdout",
     "output_type": "stream",
     "text": [
      "Gradient Boosting Accuracy: 75.83%\n",
      "Gradient Boosting Classification Report:\n",
      "               precision    recall  f1-score   support\n",
      "\n",
      "           0       0.77      0.77      0.77      6124\n",
      "           1       0.75      0.74      0.75      5619\n",
      "\n",
      "    accuracy                           0.76     11743\n",
      "   macro avg       0.76      0.76      0.76     11743\n",
      "weighted avg       0.76      0.76      0.76     11743\n",
      "\n"
     ]
    }
   ],
   "source": [
    "import pandas as pd\n",
    "import numpy as np\n",
    "from sklearn.model_selection import train_test_split, GridSearchCV, cross_val_score\n",
    "from sklearn.ensemble import GradientBoostingClassifier\n",
    "from sklearn.metrics import accuracy_score, classification_report\n",
    "\n",
    "\n",
    "from sklearn.ensemble import GradientBoostingClassifier\n",
    "\n",
    "# Load data\n",
    "train_df = pd.read_csv(\"data/processed/train_processed.csv\")\n",
    "val_df = pd.read_csv(\"data/processed/validation_processed.csv\")\n",
    "\n",
    "# Split into features and target\n",
    "X_train = train_df.drop(\"Attrition\", axis=1)\n",
    "y_train = train_df[\"Attrition\"]\n",
    "\n",
    "X_val = val_df.drop(\"Attrition\", axis=1)\n",
    "y_val = val_df[\"Attrition\"]\n",
    "\n",
    "# Initialize and train Gradient Boosting model\n",
    "gb_model = GradientBoostingClassifier(n_estimators=100, learning_rate=0.1, random_state=42)\n",
    "gb_model.fit(X_train, y_train)\n",
    "\n",
    "# Predict and evaluate\n",
    "gb_predictions = gb_model.predict(X_val)\n",
    "gb_accuracy = accuracy_score(y_val, gb_predictions)\n",
    "gb_report = classification_report(y_val, gb_predictions)\n",
    "\n",
    "print(f\"Gradient Boosting Accuracy: {100*gb_accuracy:.2f}%\")\n",
    "print(\"Gradient Boosting Classification Report:\\n\", gb_report)"
   ]
  }
 ],
 "metadata": {
  "kernelspec": {
   "display_name": "base",
   "language": "python",
   "name": "python3"
  },
  "language_info": {
   "codemirror_mode": {
    "name": "ipython",
    "version": 3
   },
   "file_extension": ".py",
   "mimetype": "text/x-python",
   "name": "python",
   "nbconvert_exporter": "python",
   "pygments_lexer": "ipython3",
   "version": "3.12.7"
  }
 },
 "nbformat": 4,
 "nbformat_minor": 5
}
