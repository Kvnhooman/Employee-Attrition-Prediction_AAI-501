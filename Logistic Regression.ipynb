{
 "cells": [
  {
   "cell_type": "code",
   "execution_count": null,
   "metadata": {},
   "outputs": [
    {
     "name": "stderr",
     "output_type": "stream",
     "text": [
      "/opt/anaconda3/lib/python3.12/site-packages/sklearn/linear_model/_logistic.py:469: ConvergenceWarning: lbfgs failed to converge (status=1):\n",
      "STOP: TOTAL NO. of ITERATIONS REACHED LIMIT.\n",
      "\n",
      "Increase the number of iterations (max_iter) or scale the data as shown in:\n",
      "    https://scikit-learn.org/stable/modules/preprocessing.html\n",
      "Please also refer to the documentation for alternative solver options:\n",
      "    https://scikit-learn.org/stable/modules/linear_model.html#logistic-regression\n",
      "  n_iter_i = _check_optimize_result(\n"
     ]
    },
    {
     "name": "stdout",
     "output_type": "stream",
     "text": [
      "Logistic Regression WITHOUT Feature Scaling\n",
      "Accuracy: 74.07%\n",
      "Classification Report:\n",
      "               precision    recall  f1-score   support\n",
      "\n",
      "           0       0.74      0.77      0.76      5681\n",
      "           1       0.74      0.71      0.72      5192\n",
      "\n",
      "    accuracy                           0.74     10873\n",
      "   macro avg       0.74      0.74      0.74     10873\n",
      "weighted avg       0.74      0.74      0.74     10873\n",
      "\n",
      "\n",
      "Logistic Regression WITH Feature Scaling\n",
      "Accuracy: 74.95%\n",
      "Classification Report:\n",
      "               precision    recall  f1-score   support\n",
      "\n",
      "           0       0.76      0.76      0.76      5681\n",
      "           1       0.74      0.73      0.74      5192\n",
      "\n",
      "    accuracy                           0.75     10873\n",
      "   macro avg       0.75      0.75      0.75     10873\n",
      "weighted avg       0.75      0.75      0.75     10873\n",
      "\n"
     ]
    }
   ],
   "source": [
    "# Using Logistic Regression Classifier for Employee Attrition Prediction\n",
    "\n",
    "# Importing necessary libraries \n",
    "import pandas as pd\n",
    "from sklearn.linear_model import LogisticRegression\n",
    "from sklearn.metrics import accuracy_score, classification_report\n",
    "from sklearn.preprocessing import StandardScaler\n",
    "\n",
    "# Load data (using the engineered dataset)   \n",
    "train_df = pd.read_csv(\"data/processed/train_engineered.csv\")\n",
    "val_df = pd.read_csv(\"data/processed/validation_engineered.csv\")\n",
    "\n",
    "# Separate features and target variable\n",
    "x_train = train_df.drop(\"Attrition\", axis=1)\n",
    "y_train = train_df[\"Attrition\"]\n",
    "\n",
    "x_val = val_df.drop(\"Attrition\", axis=1)\n",
    "y_val = val_df[\"Attrition\"]\n",
    "\n",
    "### Logistic Regression WITHOUT Feature Scaling ###\n",
    "\n",
    "# Initialize and train the logistic regression model without scaling\n",
    "log_reg_no_scaling = LogisticRegression(random_state=42, max_iter=1000)\n",
    "log_reg_no_scaling.fit(x_train, y_train)\n",
    "\n",
    "# Predictions and evaluation without scaling\n",
    "predictions_no_scaling = log_reg_no_scaling.predict(x_val)\n",
    "accuracy_no_scaling = accuracy_score(y_val, predictions_no_scaling)\n",
    "report_no_scaling = classification_report(y_val, predictions_no_scaling)\n",
    "\n",
    "print(\"Logistic Regression WITHOUT Feature Scaling\")\n",
    "print(f\"Accuracy: {100*accuracy_no_scaling:.2f}%\")\n",
    "print(\"Classification Report:\\n\", report_no_scaling)\n",
    "\n",
    "\n",
    "### Logistic Regression WITH Feature Scaling ###\n",
    "\n",
    "# Initialize a scaler and transform the data\n",
    "scaler = StandardScaler()\n",
    "x_train_scaled = scaler.fit_transform(x_train)\n",
    "x_val_scaled = scaler.transform(x_val)\n",
    "\n",
    "# Initialize and train the logistic regression model with scaled features\n",
    "log_reg_scaled = LogisticRegression(random_state=42, max_iter=1000)\n",
    "log_reg_scaled.fit(x_train_scaled, y_train)\n",
    "\n",
    "# Predictions and evaluation with scaling\n",
    "predictions_scaled = log_reg_scaled.predict(x_val_scaled)\n",
    "accuracy_scaled = accuracy_score(y_val, predictions_scaled)\n",
    "report_scaled = classification_report(y_val, predictions_scaled)\n",
    "\n",
    "print(\"\\nLogistic Regression WITH Feature Scaling\")\n",
    "print(f\"Accuracy: {100*accuracy_scaled:.2f}%\")\n",
    "print(\"Classification Report:\\n\", report_scaled)\n"
   ]
  },
  {
   "cell_type": "code",
   "execution_count": null,
   "metadata": {},
   "outputs": [],
   "source": [
    "\n"
   ]
  },
  {
   "cell_type": "code",
   "execution_count": null,
   "metadata": {},
   "outputs": [],
   "source": [
    "\n"
   ]
  }
 ],
 "metadata": {
  "kernelspec": {
   "display_name": "base",
   "language": "python",
   "name": "python3"
  },
  "language_info": {
   "codemirror_mode": {
    "name": "ipython",
    "version": 3
   },
   "file_extension": ".py",
   "mimetype": "text/x-python",
   "name": "python",
   "nbconvert_exporter": "python",
   "pygments_lexer": "ipython3",
   "version": "3.12.7"
  }
 },
 "nbformat": 4,
 "nbformat_minor": 2
}
