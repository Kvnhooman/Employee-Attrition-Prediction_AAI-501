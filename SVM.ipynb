{
 "cells": [
  {
   "cell_type": "code",
   "execution_count": 3,
   "metadata": {},
   "outputs": [
    {
     "name": "stdout",
     "output_type": "stream",
     "text": [
      "SVM Accuracy: 0.5379380115883381\n",
      "SVM Classification Report:\n",
      "               precision    recall  f1-score   support\n",
      "\n",
      "           0       0.54      0.76      0.63      5681\n",
      "           1       0.53      0.29      0.38      5192\n",
      "\n",
      "    accuracy                           0.54     10873\n",
      "   macro avg       0.54      0.53      0.51     10873\n",
      "weighted avg       0.54      0.54      0.51     10873\n",
      "\n"
     ]
    }
   ],
   "source": [
    "# Building SVM Model\n",
    "from sklearn.svm import SVC\n",
    "from sklearn.metrics import accuracy_score, classification_report\n",
    "import numpy as np\n",
    "import pandas as pd\n",
    "train_df = pd.read_csv(\"data/processed/train_engineered.csv\")\n",
    "val_df = pd.read_csv(\"data/processed/validation_engineered.csv\")\n",
    "\n",
    "x_train = train_df.drop(\"Attrition\", axis=1)\n",
    "y_train = train_df[\"Attrition\"]\n",
    "\n",
    "x_val = val_df.drop(\"Attrition\", axis=1)\n",
    "y_val = val_df[\"Attrition\"]\n",
    "\n",
    "# Initialize the SVM model\n",
    "svm_model=SVC(kernel='rbf', C=1, random_state=42)\n",
    "\n",
    "# Train the model\n",
    "svm_model.fit(x_train, y_train)\n",
    "\n",
    "# Predictions using SVM\n",
    "svm_predictions=svm_model.predict(x_val)\n",
    "\n",
    "# Evaluate the model performance\n",
    "svm_accuracy = accuracy_score(y_val, svm_predictions)\n",
    "svm_report = classification_report(y_val, svm_predictions)\n",
    "\n",
    "print(\"SVM Accuracy:\", svm_accuracy)\n",
    "print(\"SVM Classification Report:\\n\", svm_report)"
   ]
  },
  {
   "cell_type": "code",
   "execution_count": null,
   "metadata": {},
   "outputs": [],
   "source": []
  }
 ],
 "metadata": {
  "kernelspec": {
   "display_name": "Python 3",
   "language": "python",
   "name": "python3"
  },
  "language_info": {
   "codemirror_mode": {
    "name": "ipython",
    "version": 3
   },
   "file_extension": ".py",
   "mimetype": "text/x-python",
   "name": "python",
   "nbconvert_exporter": "python",
   "pygments_lexer": "ipython3",
   "version": "3.12.4"
  }
 },
 "nbformat": 4,
 "nbformat_minor": 2
}
