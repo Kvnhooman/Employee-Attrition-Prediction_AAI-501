{
 "cells": [
  {
   "cell_type": "code",
   "execution_count": 3,
   "metadata": {},
   "outputs": [],
   "source": [
    "#Importing librarys\n",
    "\n",
    "from sklearn.svm import SVC\n",
    "from sklearn.metrics import accuracy_score, classification_report\n",
    "import numpy as np\n",
    "import pandas as pd\n",
    "from sklearn.preprocessing import StandardScaler\n",
    "\n"
   ]
  },
  {
   "cell_type": "code",
   "execution_count": null,
   "metadata": {},
   "outputs": [
    {
     "name": "stdout",
     "output_type": "stream",
     "text": [
      "SVM Accuracy: 0.7491032833624575\n",
      "SVM Classification Report:\n",
      "               precision    recall  f1-score   support\n",
      "\n",
      "           0       0.76      0.76      0.76      5681\n",
      "           1       0.74      0.74      0.74      5192\n",
      "\n",
      "    accuracy                           0.75     10873\n",
      "   macro avg       0.75      0.75      0.75     10873\n",
      "weighted avg       0.75      0.75      0.75     10873\n",
      "\n"
     ]
    }
   ],
   "source": [
    "# Building the SVM Model\n",
    "\n",
    "train_df = pd.read_csv(\"data/processed/train_engineered.csv\")\n",
    "val_df = pd.read_csv(\"data/processed/validation_engineered.csv\")\n",
    "\n",
    "x_train = train_df.drop(\"Attrition\", axis=1)\n",
    "y_train = train_df[\"Attrition\"]\n",
    "\n",
    "x_val = val_df.drop(\"Attrition\", axis=1)\n",
    "y_val = val_df[\"Attrition\"]\n",
    "\n",
    "# Initialize the SVM model\n",
    "# SVM is distance-based model --> scaling is required\n",
    "scaler=StandardScaler()\n",
    "x_train_scaled=scaler.fit_transform(x_train)\n",
    "x_val_scaled=scaler.transform(x_val\n",
    "                              )\n",
    "svm_model=SVC(kernel='linear', C=1, random_state=42)\n",
    "\n",
    "# Train the model\n",
    "svm_model.fit(x_train_scaled, y_train)\n",
    "\n",
    "# Predictions using SVM\n",
    "svm_predictions=svm_model.predict(x_val_scaled)"
   ]
  },
  {
   "cell_type": "code",
   "execution_count": 7,
   "metadata": {},
   "outputs": [
    {
     "name": "stdout",
     "output_type": "stream",
     "text": [
      "SVM Accuracy: 74.91%\n",
      "SVM Classification Report:\n",
      "               precision    recall  f1-score   support\n",
      "\n",
      "           0       0.76      0.76      0.76      5681\n",
      "           1       0.74      0.74      0.74      5192\n",
      "\n",
      "    accuracy                           0.75     10873\n",
      "   macro avg       0.75      0.75      0.75     10873\n",
      "weighted avg       0.75      0.75      0.75     10873\n",
      "\n"
     ]
    }
   ],
   "source": [
    "# Evaluate the model performance\n",
    "svm_accuracy = accuracy_score(y_val, svm_predictions)\n",
    "svm_report = classification_report(y_val, svm_predictions)\n",
    "\n",
    "print(f\"SVM Accuracy: {100*svm_accuracy:.2f}%\")\n",
    "print(\"SVM Classification Report:\\n\", svm_report)"
   ]
  }
 ],
 "metadata": {
  "kernelspec": {
   "display_name": "Python 3",
   "language": "python",
   "name": "python3"
  },
  "language_info": {
   "codemirror_mode": {
    "name": "ipython",
    "version": 3
   },
   "file_extension": ".py",
   "mimetype": "text/x-python",
   "name": "python",
   "nbconvert_exporter": "python",
   "pygments_lexer": "ipython3",
   "version": "3.12.4"
  }
 },
 "nbformat": 4,
 "nbformat_minor": 2
}
